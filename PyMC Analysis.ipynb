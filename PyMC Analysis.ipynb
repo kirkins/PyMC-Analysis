{
 "cells": [
  {
   "cell_type": "markdown",
   "metadata": {},
   "source": [
    "# PyMC Program Analysis\n",
    "\n",
    "PyMC is a python library which focuses on probabilistic programming, while providing higher level functions which abstract away much of the lower level statistics, thus making it more accessible.\n",
    "\n",
    "## Markov Chain Monte Carlo\n",
    "\n",
    "PyMC stands for Python Markov chain Monte Carlo. MCMC (Markov chain Monte Carlo) is a class of algorithms which is used for sampling a distribution of possible values repeatedly to gain statistical insights. MCMC is derived from combining Monte Carlo with Markov chains. Normally Monte Carlo algorithms take repeated random samples to create a sort of simulation. The Monte Carlo has a combination of set rules for example a model of the environment in question and then variables with random variance, the combination of these factors creates some outcome.\n",
    "\n",
    "A Markov chain is a list of values which have a probability of occuring, after one value occurs the probability of the next value is dependent on the current value. For example consider a bag with 2 red balls, 2 blue, and 2 yellow. When choosing the first value there is a chance of ⅓ of choosing any color. Say the first color chosen is red and now we have to recalculate the odds of what type of ball will be selected next. Since the bag now contains only 1 red ball there is a reduced chance of another red ball and an increased chance of blue and yellow.\n",
    "\n",
    "MCMC uses a Monte Carlo style simulation but incorporates Markov chains by having each result effect the proceeding result."
   ]
  },
  {
   "cell_type": "markdown",
   "metadata": {},
   "source": [
    "## Coin Flip Simulation\n",
    "\n",
    "A very simple demo app for PyMC is the simulation of testing if a coin is fair or not based on the comparison of obsererved and expected results.\n",
    "\n",
    "This beggins with importing PyMC, deciding on the number of trials *(times we will flip the coin, in this case 10)*, choose a theta value *(this represents the unknown probability in our case we will assume the coin is fair and will come up heads 50% of the time)*. After deciding on these values we create our `flips` variable which will contain a distribution of `1`s and `0`s, where `1` represents heads and `0` represents tails. With this value set we will get back an array containing the result from each flip.\n",
    "\n",
    "The data from our coin flip simulation will be gathered using Bernoulli from `scipy` *(Bernoulli simply refers to a test which can return either true or false)*. Note that in a real use case we wouldn't know the theta value and our data would be generated from some other method for example actually recording coin flips, or recording some other real world data where we want to find the value of theta."
   ]
  },
  {
   "cell_type": "code",
   "execution_count": 2,
   "metadata": {},
   "outputs": [
    {
     "data": {
      "text/plain": [
       "array([1, 0, 0, 1, 1, 0, 1, 1, 0, 0])"
      ]
     },
     "execution_count": 2,
     "metadata": {},
     "output_type": "execute_result"
    }
   ],
   "source": [
    "import scipy as sp\n",
    "from scipy import stats\n",
    "import numpy as np\n",
    "import warnings\n",
    "warnings.filterwarnings(\"ignore\")\n",
    "\n",
    "np.random.seed(seed=123)\n",
    "\n",
    "trials = 10\n",
    "theta_real = 0.50 # unknown value in a real experiment\n",
    "flips = sp.stats.bernoulli.rvs(p=theta_real, size=trials)\n",
    "flips"
   ]
  },
  {
   "cell_type": "markdown",
   "metadata": {},
   "source": [
    "Now that we have our initial test data we'll create a model for testing the data. The model requires a Beta value which represents the expected value before looking at the observed data. For an expectation of 50/50 we'll pass in `alpha=1` and `beta=1`to `pm.Beta` and have it represented as `θ`.\n",
    "\n",
    "***Note: When applying Bayes theorm there is also a requirment for a prior expectation or \"guess\", when no information is known a middle of the road exepected value is chosen at random. However in the case of flipping a coin an expectation of 50/50 is rational.***\n",
    "\n",
    "We then tell our model to take Bernoulli samples from the observed data `flips` while keeping in mind the expectation of a 50/50 result.\n",
    "\n",
    "To get the results we use our model `pm` to take 1000 samples from the provided data set `flips`."
   ]
  },
  {
   "cell_type": "code",
   "execution_count": 3,
   "metadata": {},
   "outputs": [
    {
     "name": "stderr",
     "output_type": "stream",
     "text": [
      "Auto-assigning NUTS sampler...\n",
      "Initializing NUTS using jitter+adapt_diag...\n",
      "Multiprocess sampling (2 chains in 2 jobs)\n",
      "NUTS: [θ]\n",
      "Sampling 2 chains, 0 divergences: 100%|██████████| 3000/3000 [00:01<00:00, 1663.33draws/s]\n"
     ]
    }
   ],
   "source": [
    "import pymc3 as pm\n",
    "\n",
    "with pm.Model() as our_first_model:\n",
    "  θ = pm.Beta('θ', alpha=1., beta=1.)\n",
    "  y = pm.Bernoulli('y', p=θ, observed=flips)\n",
    "  trace = pm.sample(1000, random_seed=123)"
   ]
  },
  {
   "cell_type": "markdown",
   "metadata": {},
   "source": [
    "In order to visualize the results of our model, saved as `trace`, we'll import `arviz`. In addition to being able to visually graph our results we can dump the results."
   ]
  },
  {
   "cell_type": "code",
   "execution_count": 4,
   "metadata": {},
   "outputs": [
    {
     "data": {
      "text/html": [
       "<div>\n",
       "<style scoped>\n",
       "    .dataframe tbody tr th:only-of-type {\n",
       "        vertical-align: middle;\n",
       "    }\n",
       "\n",
       "    .dataframe tbody tr th {\n",
       "        vertical-align: top;\n",
       "    }\n",
       "\n",
       "    .dataframe thead th {\n",
       "        text-align: right;\n",
       "    }\n",
       "</style>\n",
       "<table border=\"1\" class=\"dataframe\">\n",
       "  <thead>\n",
       "    <tr style=\"text-align: right;\">\n",
       "      <th></th>\n",
       "      <th>mean</th>\n",
       "      <th>sd</th>\n",
       "      <th>hpd_3%</th>\n",
       "      <th>hpd_97%</th>\n",
       "      <th>mcse_mean</th>\n",
       "      <th>mcse_sd</th>\n",
       "      <th>ess_mean</th>\n",
       "      <th>ess_sd</th>\n",
       "      <th>ess_bulk</th>\n",
       "      <th>ess_tail</th>\n",
       "      <th>r_hat</th>\n",
       "    </tr>\n",
       "  </thead>\n",
       "  <tbody>\n",
       "    <tr>\n",
       "      <th>θ</th>\n",
       "      <td>0.5</td>\n",
       "      <td>0.135</td>\n",
       "      <td>0.247</td>\n",
       "      <td>0.749</td>\n",
       "      <td>0.005</td>\n",
       "      <td>0.004</td>\n",
       "      <td>742.0</td>\n",
       "      <td>718.0</td>\n",
       "      <td>755.0</td>\n",
       "      <td>1260.0</td>\n",
       "      <td>1.0</td>\n",
       "    </tr>\n",
       "  </tbody>\n",
       "</table>\n",
       "</div>"
      ],
      "text/plain": [
       "   mean     sd  hpd_3%  hpd_97%  mcse_mean  mcse_sd  ess_mean  ess_sd  \\\n",
       "θ   0.5  0.135   0.247    0.749      0.005    0.004     742.0   718.0   \n",
       "\n",
       "   ess_bulk  ess_tail  r_hat  \n",
       "θ     755.0    1260.0    1.0  "
      ]
     },
     "execution_count": 4,
     "metadata": {},
     "output_type": "execute_result"
    }
   ],
   "source": [
    "import arviz as az\n",
    "\n",
    "az.summary(trace)"
   ]
  },
  {
   "cell_type": "markdown",
   "metadata": {},
   "source": [
    "However what if the coin we're testing is actually a rigged coin which is made in a way that causes heads to come up more than tails? The initial expectation of the model would still be 50/50 but the observed data would instead reflect something different. Let's create a new data set using a coin which is 70/30 and make 100 flips. This new theta value is a simulation of creating data from a coin which is rigged to make one side show more often than another.\n",
    "\n",
    "The larger number of flips will lower the odds that the outcome will appear fair by chance."
   ]
  },
  {
   "cell_type": "code",
   "execution_count": 5,
   "metadata": {},
   "outputs": [
    {
     "data": {
      "text/plain": [
       "68"
      ]
     },
     "execution_count": 5,
     "metadata": {},
     "output_type": "execute_result"
    }
   ],
   "source": [
    "trials = 100\n",
    "theta_real = 0.7\n",
    "flips = sp.stats.bernoulli.rvs(p=theta_real, size=trials)\n",
    "flips.sum()"
   ]
  },
  {
   "cell_type": "markdown",
   "metadata": {},
   "source": [
    "Now that we have our data for observations of a fixed coin let's redo the model. The line `flips.sum()` will return the total number of heads observed out of 100.\n",
    "\n",
    "Noitce that we haven't changed our alpha/beta values here. This is because we are assuming that we don't initially know the coin is rigged and thus we start with a theta value of 0.5 just like with the fair coin."
   ]
  },
  {
   "cell_type": "code",
   "execution_count": 6,
   "metadata": {},
   "outputs": [
    {
     "name": "stderr",
     "output_type": "stream",
     "text": [
      "Auto-assigning NUTS sampler...\n",
      "Initializing NUTS using jitter+adapt_diag...\n",
      "Multiprocess sampling (2 chains in 2 jobs)\n",
      "NUTS: [θ]\n",
      "Sampling 2 chains, 0 divergences: 100%|██████████| 3000/3000 [00:01<00:00, 1663.84draws/s]\n"
     ]
    },
    {
     "data": {
      "text/html": [
       "<div>\n",
       "<style scoped>\n",
       "    .dataframe tbody tr th:only-of-type {\n",
       "        vertical-align: middle;\n",
       "    }\n",
       "\n",
       "    .dataframe tbody tr th {\n",
       "        vertical-align: top;\n",
       "    }\n",
       "\n",
       "    .dataframe thead th {\n",
       "        text-align: right;\n",
       "    }\n",
       "</style>\n",
       "<table border=\"1\" class=\"dataframe\">\n",
       "  <thead>\n",
       "    <tr style=\"text-align: right;\">\n",
       "      <th></th>\n",
       "      <th>mean</th>\n",
       "      <th>sd</th>\n",
       "      <th>hpd_3%</th>\n",
       "      <th>hpd_97%</th>\n",
       "      <th>mcse_mean</th>\n",
       "      <th>mcse_sd</th>\n",
       "      <th>ess_mean</th>\n",
       "      <th>ess_sd</th>\n",
       "      <th>ess_bulk</th>\n",
       "      <th>ess_tail</th>\n",
       "      <th>r_hat</th>\n",
       "    </tr>\n",
       "  </thead>\n",
       "  <tbody>\n",
       "    <tr>\n",
       "      <th>θ</th>\n",
       "      <td>0.677</td>\n",
       "      <td>0.045</td>\n",
       "      <td>0.596</td>\n",
       "      <td>0.766</td>\n",
       "      <td>0.001</td>\n",
       "      <td>0.001</td>\n",
       "      <td>1027.0</td>\n",
       "      <td>1020.0</td>\n",
       "      <td>1006.0</td>\n",
       "      <td>1459.0</td>\n",
       "      <td>1.0</td>\n",
       "    </tr>\n",
       "  </tbody>\n",
       "</table>\n",
       "</div>"
      ],
      "text/plain": [
       "    mean     sd  hpd_3%  hpd_97%  mcse_mean  mcse_sd  ess_mean  ess_sd  \\\n",
       "θ  0.677  0.045   0.596    0.766      0.001    0.001    1027.0  1020.0   \n",
       "\n",
       "   ess_bulk  ess_tail  r_hat  \n",
       "θ    1006.0    1459.0    1.0  "
      ]
     },
     "execution_count": 6,
     "metadata": {},
     "output_type": "execute_result"
    }
   ],
   "source": [
    "with pm.Model() as our_first_model:\n",
    "  θ = pm.Beta('θ', alpha=1., beta=1.)\n",
    "  y = pm.Bernoulli('y', p=θ, observed=flips)\n",
    "  trace = pm.sample(1000, random_seed=123)\n",
    "\n",
    "az.summary(trace)"
   ]
  },
  {
   "cell_type": "markdown",
   "metadata": {},
   "source": [
    "We can see that despite our initial expectations of a 50/50 split between heads or tales the model has now realized the mean is closer to `0.7`.\n",
    "\n",
    "We can also graph the expectation of having results between 45-55% results as heads against the models certainty that the theta value is within that range. As you can see the odds of the coin really being a fair one are pretty low. \n",
    "\n",
    "Below we can see the certainty of the coins real probability plotted in blue, with the expected values shown as a green.\n",
    "\n",
    "As we can see it is likely the odds could be anywhere between 61% to 77% but our expected value of 50/50 is far outside the realm of liklihood. The area with a green line showing are initial expectations has a very low value for possibility of it being the true odds of the coin."
   ]
  },
  {
   "cell_type": "code",
   "execution_count": 7,
   "metadata": {},
   "outputs": [
    {
     "data": {
      "text/plain": [
       "array([<matplotlib.axes._subplots.AxesSubplot object at 0x7ff79f3a9c90>],\n",
       "      dtype=object)"
      ]
     },
     "execution_count": 7,
     "metadata": {},
     "output_type": "execute_result"
    },
    {
     "data": {
      "image/png": "[encoded data removed]",
      "text/plain": [
       "<Figure size 432x288 with 1 Axes>"
      ]
     },
     "metadata": {
      "needs_background": "light"
     },
     "output_type": "display_data"
    }
   ],
   "source": [
    "az.plot_posterior(trace, rope=[0.45, .55])"
   ]
  },
  {
   "cell_type": "markdown",
   "metadata": {},
   "source": [
    "Now that we've seen how sampling works with PyMC, let's import some data that can be used for creating a more complex example. We'll use a dataset for tips which comes with a library called `seaborn`. It includes total bill, tip amount, gender, if a smoker, day, time, and size of party. It has a total of 243 entries."
   ]
  },
  {
   "cell_type": "code",
   "execution_count": 8,
   "metadata": {},
   "outputs": [
    {
     "data": {
      "text/html": [
       "<div>\n",
       "<style scoped>\n",
       "    .dataframe tbody tr th:only-of-type {\n",
       "        vertical-align: middle;\n",
       "    }\n",
       "\n",
       "    .dataframe tbody tr th {\n",
       "        vertical-align: top;\n",
       "    }\n",
       "\n",
       "    .dataframe thead th {\n",
       "        text-align: right;\n",
       "    }\n",
       "</style>\n",
       "<table border=\"1\" class=\"dataframe\">\n",
       "  <thead>\n",
       "    <tr style=\"text-align: right;\">\n",
       "      <th></th>\n",
       "      <th>total_bill</th>\n",
       "      <th>tip</th>\n",
       "      <th>sex</th>\n",
       "      <th>smoker</th>\n",
       "      <th>day</th>\n",
       "      <th>time</th>\n",
       "      <th>size</th>\n",
       "    </tr>\n",
       "  </thead>\n",
       "  <tbody>\n",
       "    <tr>\n",
       "      <th>239</th>\n",
       "      <td>29.03</td>\n",
       "      <td>5.92</td>\n",
       "      <td>Male</td>\n",
       "      <td>No</td>\n",
       "      <td>Sat</td>\n",
       "      <td>Dinner</td>\n",
       "      <td>3</td>\n",
       "    </tr>\n",
       "    <tr>\n",
       "      <th>240</th>\n",
       "      <td>27.18</td>\n",
       "      <td>2.00</td>\n",
       "      <td>Female</td>\n",
       "      <td>Yes</td>\n",
       "      <td>Sat</td>\n",
       "      <td>Dinner</td>\n",
       "      <td>2</td>\n",
       "    </tr>\n",
       "    <tr>\n",
       "      <th>241</th>\n",
       "      <td>22.67</td>\n",
       "      <td>2.00</td>\n",
       "      <td>Male</td>\n",
       "      <td>Yes</td>\n",
       "      <td>Sat</td>\n",
       "      <td>Dinner</td>\n",
       "      <td>2</td>\n",
       "    </tr>\n",
       "    <tr>\n",
       "      <th>242</th>\n",
       "      <td>17.82</td>\n",
       "      <td>1.75</td>\n",
       "      <td>Male</td>\n",
       "      <td>No</td>\n",
       "      <td>Sat</td>\n",
       "      <td>Dinner</td>\n",
       "      <td>2</td>\n",
       "    </tr>\n",
       "    <tr>\n",
       "      <th>243</th>\n",
       "      <td>18.78</td>\n",
       "      <td>3.00</td>\n",
       "      <td>Female</td>\n",
       "      <td>No</td>\n",
       "      <td>Thur</td>\n",
       "      <td>Dinner</td>\n",
       "      <td>2</td>\n",
       "    </tr>\n",
       "  </tbody>\n",
       "</table>\n",
       "</div>"
      ],
      "text/plain": [
       "     total_bill   tip     sex smoker   day    time  size\n",
       "239       29.03  5.92    Male     No   Sat  Dinner     3\n",
       "240       27.18  2.00  Female    Yes   Sat  Dinner     2\n",
       "241       22.67  2.00    Male    Yes   Sat  Dinner     2\n",
       "242       17.82  1.75    Male     No   Sat  Dinner     2\n",
       "243       18.78  3.00  Female     No  Thur  Dinner     2"
      ]
     },
     "execution_count": 8,
     "metadata": {},
     "output_type": "execute_result"
    }
   ],
   "source": [
    "import seaborn as sns\n",
    "tips = sns.load_dataset('tips')\n",
    "tips.tail()"
   ]
  },
  {
   "cell_type": "markdown",
   "metadata": {},
   "source": [
    "`seaborn` can also be used to visualize our data for example we will plot tip amount against the amount of people in a party."
   ]
  },
  {
   "cell_type": "code",
   "execution_count": 9,
   "metadata": {},
   "outputs": [
    {
     "data": {
      "text/plain": [
       "<matplotlib.axes._subplots.AxesSubplot at 0x7ff79dca69d0>"
      ]
     },
     "execution_count": 9,
     "metadata": {},
     "output_type": "execute_result"
    },
    {
     "data": {
      "image/png": "[encoded data removed]",
      "text/plain": [
       "<Figure size 432x288 with 1 Axes>"
      ]
     },
     "metadata": {
      "needs_background": "light"
     },
     "output_type": "display_data"
    }
   ],
   "source": [
    "sns.violinplot(x='size', y='tip', data=tips)"
   ]
  },
  {
   "cell_type": "markdown",
   "metadata": {},
   "source": [
    "We'll move the tip values into their own variable `tip` and count the unique values for group size as `size`."
   ]
  },
  {
   "cell_type": "code",
   "execution_count": 20,
   "metadata": {},
   "outputs": [
    {
     "data": {
      "text/plain": [
       "array([1, 2, 2, 1, 3, 3, 1, 3, 1, 1, 1, 3, 1, 3, 1, 1, 2, 2, 2, 2, 1, 1,\n",
       "       1, 3, 1, 3, 1, 1, 1, 1, 1, 3, 1, 3, 1, 2, 2, 2, 2, 2, 2, 1, 1, 1,\n",
       "       3, 1, 1, 3, 2, 1, 1, 1, 3, 1, 3, 1, 3, 1, 1, 3, 1, 1, 1, 3, 2, 2,\n",
       "       1, 0, 1, 1, 1, 2, 1, 1, 1, 1, 1, 3, 1, 1, 1, 1, 0, 1, 1, 3, 1, 1,\n",
       "       1, 1, 1, 1, 1, 1, 1, 3, 1, 1, 1, 1, 1, 1, 2, 1, 1, 1, 1, 1, 1, 1,\n",
       "       1, 0, 2, 1, 2, 1, 3, 1, 1, 3, 1, 1, 1, 1, 1, 5, 1, 1, 1, 2, 1, 1,\n",
       "       1, 1, 1, 1, 1, 1, 1, 1, 1, 5, 4, 5, 1, 1, 2, 1, 1, 1, 1, 1, 2, 3,\n",
       "       3, 4, 5, 3, 1, 3, 3, 1, 2, 1, 1, 2, 1, 3, 1, 1, 2, 1, 1, 1, 1, 1,\n",
       "       1, 1, 1, 1, 3, 1, 2, 3, 1, 4, 2, 4, 2, 2, 1, 1, 1, 1, 1, 1, 1, 3,\n",
       "       1, 1, 2, 1, 1, 1, 3, 2, 2, 3, 1, 1, 2, 3, 3, 1, 2, 1, 4, 1, 1, 3,\n",
       "       1, 1, 0, 2, 1, 1, 1, 3, 1, 1, 3, 2, 1, 1, 1, 1, 1, 1, 2, 2, 1, 1,\n",
       "       1, 1], dtype=int8)"
      ]
     },
     "execution_count": 20,
     "metadata": {},
     "output_type": "execute_result"
    }
   ],
   "source": [
    "import pandas as pd\n",
    "\n",
    "tip = tips['tip'].values\n",
    "idx = pd.Categorical(tips['size'],\n",
    "  categories=[1, 2, 3, 4, 5, 6]).codes\n",
    "\n",
    "size = len(np.unique(tips['size'].values))\n",
    "idx"
   ]
  },
  {
   "cell_type": "code",
   "execution_count": null,
   "metadata": {},
   "outputs": [
    {
     "name": "stderr",
     "output_type": "stream",
     "text": [
      "Auto-assigning NUTS sampler...\n",
      "Initializing NUTS using jitter+adapt_diag...\n",
      "Multiprocess sampling (2 chains in 2 jobs)\n",
      "NUTS: [σ, μ]\n",
      "Sampling 2 chains, 0 divergences: 100%|██████████| 11000/11000 [00:16<00:00, 678.40draws/s]\n"
     ]
    }
   ],
   "source": [
    "with pm.Model() as comparing_size:\n",
    "  μ = pm.Normal('μ', mu=0, sd=10, shape=size)\n",
    "  σ = pm.HalfNormal('σ', sd=10, shape=size)\n",
    "  y = pm.Normal('y', mu=μ[idx], sd=σ[idx], observed=tip)\n",
    "  trace_cg = pm.sample(5000)\n",
    "\n",
    "az.plot_trace(trace_cg)"
   ]
  },
  {
   "cell_type": "markdown",
   "metadata": {},
   "source": [
    "The first 6 graphs above show the sample distribution of tip amount given group size *(0 is for group size 1 due to index starting at 0)*. Below these first 6 graphs is another set of 6 which displays the standard deviation for each group. The right column on each row is a visualization of the sample process at each step.\n",
    "\n",
    "Notice the similarities between these distributions and graphs shown with `sns.violinplot`."
   ]
  },
  {
   "cell_type": "markdown",
   "metadata": {},
   "source": [
    "There are several uses of PyMC which relate to the use of Bayes theorm. However it should be noted that the library is not generally used for Bayesian networks. Rather it is mainly used when a dataset exists for which the probabilities which control the outcome are unknown. Given a large dataset, a list of variables which control the outcome, the probabilities of the effect of those variables can be estimated."
   ]
  },
  {
   "cell_type": "markdown",
   "metadata": {},
   "source": [
    "**Sources**\n",
    "\n",
    "*Martin, O. (2016). Bayesian analysis with Python. Birmingham, UK: Packt Publishing.*"
   ]
  },
  {
   "cell_type": "code",
   "execution_count": null,
   "metadata": {},
   "outputs": [],
   "source": []
  }
 ],
 "metadata": {
  "kernelspec": {
   "display_name": "Python 3",
   "language": "python",
   "name": "python3"
  },
  "language_info": {
   "codemirror_mode": {
    "name": "ipython",
    "version": 3
   },
   "file_extension": ".py",
   "mimetype": "text/x-python",
   "name": "python",
   "nbconvert_exporter": "python",
   "pygments_lexer": "ipython3",
   "version": "3.7.6"
  }
 },
 "nbformat": 4,
 "nbformat_minor": 2
}
